{
 "cells": [
  {
   "cell_type": "code",
   "execution_count": 1,
   "metadata": {
    "collapsed": true
   },
   "outputs": [],
   "source": [
    "# Configuratins related to Cassandra connector & Cluster\n",
    "import os\n",
    "os.environ['PYSPARK_SUBMIT_ARGS'] = '--packages com.datastax.spark:spark-cassandra-connector_2.11:2.3.2 --conf spark.cassandra.connection.host=127.0.0.1 pyspark-shell'"
   ]
  },
  {
   "cell_type": "code",
   "execution_count": 2,
   "metadata": {
    "collapsed": true
   },
   "outputs": [],
   "source": [
    "from pyspark import SparkContext\n",
    "sc = SparkContext()"
   ]
  },
  {
   "cell_type": "code",
   "execution_count": 3,
   "metadata": {
    "collapsed": true
   },
   "outputs": [],
   "source": [
    "from pyspark.sql import SparkSession\n",
    "spark = SparkSession(sc)"
   ]
  },
  {
   "cell_type": "markdown",
   "metadata": {},
   "source": [
    "# Import des fichiers grippe et météo depuis HDFS"
   ]
  },
  {
   "cell_type": "markdown",
   "metadata": {},
   "source": [
    "## Import du fichier grippe"
   ]
  },
  {
   "cell_type": "code",
   "execution_count": 4,
   "metadata": {},
   "outputs": [
    {
     "name": "stdout",
     "output_type": "stream",
     "text": [
      "+------+---------+----+-------+------+------+----------+---------+---------+--------------------+\n",
      "|  week|indicator| inc|inc_low|inc_up|inc100|inc100_low|inc100_up|geo_insee|            geo_name|\n",
      "+------+---------+----+-------+------+------+----------+---------+---------+--------------------+\n",
      "|201847|        3| 706|      0|  1619|    37|         0|       85|       42|              ALSACE|\n",
      "|201847|        3| 469|      0|  1220|    14|         0|       36|       72|           AQUITAINE|\n",
      "|201847|        3|  79|      0|   234|     6|         0|       17|       83|            AUVERGNE|\n",
      "|201847|        3| 420|      0|   942|    28|         0|       62|       25|     BASSE-NORMANDIE|\n",
      "|201847|        3|   0|      0|     0|     0|         0|        0|       26|           BOURGOGNE|\n",
      "|201847|        3| 863|      0|  1877|    25|         0|       55|       53|            BRETAGNE|\n",
      "|201847|        3| 698|      1|  1395|    26|         0|       52|       24|              CENTRE|\n",
      "|201847|        3| 211|      0|   516|    15|         0|       37|       21|   CHAMPAGNE-ARDENNE|\n",
      "|201847|        3|  60|      0|   154|    18|         0|       46|       94|               CORSE|\n",
      "|201847|        3|   0|      0|     0|     0|         0|        0|       43|       FRANCHE-COMTE|\n",
      "|201847|        3| 229|      0|   577|    12|         0|       30|       23|     HAUTE-NORMANDIE|\n",
      "|201847|        3| 814|     12|  1616|    29|         1|       57|       91|LANGUEDOC-ROUSSILLON|\n",
      "|201847|        3|   0|      0|     0|     0|         0|        0|       74|            LIMOUSIN|\n",
      "|201847|        3|1589|     75|  3103|    66|         3|      129|       41|            LORRAINE|\n",
      "|201847|        3|  70|      0|   343|     2|         0|       11|       73|       MIDI-PYRENEES|\n",
      "|201847|        3| 843|      0|  2045|    20|         0|       49|       31|  NORD-PAS-DE-CALAIS|\n",
      "|201847|        3|1268|      0|  2828|    33|         0|       74|       52|    PAYS-DE-LA-LOIRE|\n",
      "|201847|        3| 265|      0|   826|    13|         0|       41|       22|            PICARDIE|\n",
      "|201847|        3|  71|      0|   410|     4|         0|       22|       54|    POITOU-CHARENTES|\n",
      "|201847|        3|1503|      0|  3218|    30|         0|       64|       93|PROVENCE-ALPES-CO...|\n",
      "+------+---------+----+-------+------+------+----------+---------+---------+--------------------+\n",
      "only showing top 20 rows\n",
      "\n"
     ]
    }
   ],
   "source": [
    "# File location and type\n",
    "file_location = \"hdfs://172.17.0.2:8020/user/cloudera/Projet_Grippe/incidence-REG-3.csv\"\n",
    "file_type = \"csv\"\n",
    "\n",
    "# CSV options\n",
    "infer_schema = \"true\"\n",
    "first_row_is_header = \"true\"\n",
    "delimiter = \",\"\n",
    "\n",
    "\n",
    "# The applied options are for CSV files. For other file types, these will be ignored.\n",
    "df = spark.read.format(file_type) \\\n",
    "  .option(\"inferSchema\", infer_schema) \\\n",
    "  .option(\"header\", first_row_is_header) \\\n",
    "  .option(\"sep\", delimiter) \\\n",
    "  .load(file_location)\n",
    "\n",
    "df.show()"
   ]
  },
  {
   "cell_type": "code",
   "execution_count": 5,
   "metadata": {
    "collapsed": true
   },
   "outputs": [],
   "source": [
    "permanent_table_name = \"incidence_REG\"\n",
    "\n",
    "df.write.format(\"parquet\").saveAsTable(permanent_table_name)"
   ]
  },
  {
   "cell_type": "markdown",
   "metadata": {},
   "source": [
    "## Import données météo"
   ]
  },
  {
   "cell_type": "code",
   "execution_count": 6,
   "metadata": {},
   "outputs": [
    {
     "name": "stdout",
     "output_type": "stream",
     "text": [
      "+----------+--------------------+--------+---------------------+--------------------------+--------------+------------+-----------+-----------+--------+----------------------+-------------+--------------------+------------+-----------------+---------------------------------+-----------------------------------+---------------------------+-----------------------+---------------------------+----------------+-------------------+------------+----------------------+-------------------+-------------------+-------------------+-------------------+-----------------------+----------------------------------------------+-------------------------------+-----------------+---------------+---------------------+--------+--------------------+---------------------+----------------------------+-----------------------------+-------------------------------+-------------------------------+--------------------------------+--------------------------------+-----------------+-----------------+-----------------+-----------------+-------------------+----------+--------------+-------------------------+----------+--------------+-------------------------+----------+--------------+-------------------------+----------+--------------+--------------------+------------------+--------------------------+--------------------+------------+\n",
      "|id_station|                Date|pression|Variation_pression_3h|Type_tendance_barometrique|Direction_vent|vitesse_vent|temperature|Point_rosee|humidite|Visibilite_horizontale|Temps_present|        Temps_passe1|Temps_passe2|Nebulosite_totale|Nebulosite_nuages_etage_inferieur|Hauteur_base_nuages_etage_inferieur|Type_nuages_etage_inferieur|Type_nuages_etage_moyen|Type_nuages_etage_superieur|Pression_station|Niveau_barometrique|Geopotentiel|Variation_pression_24h|Temperature_min_12h|Temperature_min_24h|Temperature_max_12h|Temperature_max_24h|Temperature_min_sol_12h|Methode_mesure_Temperature_thermometre_mouille|Temperature_thermometre_mouille|Rafale_10_minutes|Rafales_periode|Periode_mesure_rafale|Etat_sol|Hauteur_totale_neige|Hauteur_neige_fraiche|Periode_mesure_neige_fraiche|Precipitations_derniere_heure|Precipitations_3dernieresheures|Precipitations_6dernieresheures|Precipitations_12dernieresheures|Precipitations_24dernieresheures|Phenomenespecial1|Phenomenespecial2|Phenomenespecial3|Phenomenespecial4|Nebulositenuageuse1|Typenuage1|Hauteurdebase1|Nebulositecouchenuageuse2|Typenuage2|Hauteurdebase2|Nebulositecouchenuageuse3|Typenuage3|Hauteurdebase3|Nebulositecouchenuageuse4|Typenuage4|Hauteurdebase4|         Coordonnees|               Nom|Typedetendancebarometrique|         Tempspasse1|Tempspresent|\n",
      "+----------+--------------------+--------+---------------------+--------------------------+--------------+------------+-----------+-----------+--------+----------------------+-------------+--------------------+------------+-----------------+---------------------------------+-----------------------------------+---------------------------+-----------------------+---------------------------+----------------+-------------------+------------+----------------------+-------------------+-------------------+-------------------+-------------------+-----------------------+----------------------------------------------+-------------------------------+-----------------+---------------+---------------------+--------+--------------------+---------------------+----------------------------+-----------------------------+-------------------------------+-------------------------------+--------------------------------+--------------------------------+-----------------+-----------------+-----------------+-----------------+-------------------+----------+--------------+-------------------------+----------+--------------+-------------------------+----------+--------------+-------------------------+----------+--------------+--------------------+------------------+--------------------------+--------------------+------------+\n",
      "|      7168|2018-08-08 09:00:...|  101500|                  140|                         1|           240|         3.2|     295.35|     289.65|      70|                 20000|            0|                null|        null|             null|                                1|                                800|                       null|                   null|                       null|          100140|               null|        null|                   450|               null|               null|               null|               null|                 291.65|                                          null|                           null|              4.8|            7.3|                  -10|       0|                 0.0|                 null|                        null|                          0.0|                            0.0|                            0.0|                            10.2|                            10.2|             null|             null|             null|             null|                  1|      null|           900|                        3|      null|          1620|                     null|      null|          null|                     null|      null|          null|     48.324667, 4.02|   TROYES-BARBEREY|                         1|                null|           0|\n",
      "|      7037|2018-08-08 12:00:...|  101490|                   70|                         1|           240|         4.7|     295.65|     285.55|      53|                 31760|            0|                null|        null|              100|                                3|                               1250|                       null|                   null|                       null|           99740|               null|        null|                   650|               null|               null|               null|               null|                 290.25|                                          null|                           null|              7.0|           10.4|                  -10|    null|                 0.0|                 null|                        null|                          0.0|                            0.0|                            0.0|                             0.0|                             4.2|             null|             null|             null|             null|                  3|      null|          1260|                        8|      null|          1680|                     null|      null|          null|                     null|      null|          null|    49.383, 1.181667|        ROUEN-BOOS|                         1|                null|           0|\n",
      "|      7149|2018-08-08 12:00:...|  101480|                   10|                         0|           240|         4.4|     298.65|     284.75|      42|                 19450|            0|Nuages couvrant p...|           2|             null|                                3|                               1750|                       null|                   null|                       null|          100450|               null|        null|                   680|               null|               null|               null|               null|                   null|                                          null|                           null|              7.2|            9.1|                  -10|       0|                 0.0|                 null|                        null|                          0.0|                            0.0|                            0.0|                            -0.1|                            -0.1|             null|             null|             null|             null|                  3|      null|          1740|                     null|      null|          null|                     null|      null|          null|                     null|      null|          null| 48.716833, 2.384333|              ORLY|                         0|Nuages couvrant p...|           0|\n",
      "|      7299|2018-08-08 12:00:...|  101380|                    0|                         0|           270|         3.7|     301.85|     290.05|      49|                 30000|           15|Nuages couvrant p...|           2|               90|                                3|                               1250|                         39|                     28|                         12|           98330|               null|        null|                   300|               null|               null|               null|               null|                 292.65|                                          null|                           null|              5.5|            8.2|                  -10|       0|                 0.0|                  0.0|                         -60|                          0.0|                            0.0|                            0.0|                             0.2|                             0.2|             null|             null|             null|             null|                  2|         8|          1400|                        2|         3|          2200|                        5|         0|          6500|                        1|         9|          1300|     47.614333, 7.51|     BALE-MULHOUSE|                         0|Nuages couvrant p...|          15|\n",
      "|      7630|2018-08-08 12:00:...|  101400|                 -130|                         8|            40|         2.2|     300.75|     289.05|      49|                 26040|            0|                null|        null|             null|                                5|                               1250|                       null|                   null|                       null|           99700|               null|        null|                   250|               null|               null|               null|               null|                 291.85|                                          null|                           null|              4.5|            5.6|                  -10|       0|                 0.0|                 null|                        null|                          0.0|                            0.0|                            0.0|                             0.0|                            -0.1|             null|             null|             null|             null|                  5|      null|          1230|                     null|      null|          null|                     null|      null|          null|                     null|      null|          null|    43.621, 1.378833|  TOULOUSE-BLAGNAC|                         8|                null|           0|\n",
      "|     78890|2018-08-08 12:00:...|  101780|                 null|                         1|            80|         6.3|     302.25|     296.45|      71|                  null|         null|                null|        null|             null|                             null|                               null|                       null|                   null|                       null|          101460|               null|        null|                   -80|               null|             299.95|               null|             304.55|                   null|                                          null|                           null|             null|           null|                 null|    null|                null|                 null|                        null|                          0.0|                            0.0|                            0.0|                             0.0|                             0.0|             null|             null|             null|             null|               null|      null|          null|                     null|      null|          null|                     null|      null|          null|                     null|      null|          null|     16.335, -61.004| LA DESIRADE METEO|                         1|                null|        null|\n",
      "|      7240|2018-08-08 15:00:...|  101380|                 -130|                         7|           250|         4.0|     298.65|     285.45|      44|                 37580|            0|                null|        null|              100|                                8|                               1750|                       null|                   null|                       null|          100100|               null|        null|                   550|               null|               null|               null|               null|                 292.75|                                          null|                           null|              7.7|            9.3|                  -10|       0|                 0.0|                 null|                        null|                          0.0|                            0.0|                            0.0|                            -0.1|                            -0.1|             null|             null|             null|             null|                  5|      null|          1620|                        8|      null|          1920|                     null|      null|          null|                     null|      null|          null|   47.4445, 0.727333|             TOURS|                         7|                null|           0|\n",
      "|      7535|2018-08-08 15:00:...|  101150|                 -230|                         8|           350|         2.3|     303.65|     288.15|      39|                 20000|            0|                null|        null|             null|                                0|                               null|                       null|                   null|                       null|           98250|               null|        null|                   100|               null|               null|               null|               null|                 292.95|                                          null|                           null|              4.3|            4.9|                  -10|       0|                 0.0|                 null|                        null|                          0.0|                            0.0|                            0.0|                             0.0|                            -0.1|             null|             null|             null|             null|               null|      null|          null|                     null|      null|          null|                     null|      null|          null|                     null|      null|          null|    44.745, 1.396667|           GOURDON|                         8|                null|           0|\n",
      "|     78897|2018-08-08 15:00:...|  101810|                  -10|                         0|            50|         5.9|     304.05|     295.95|      62|                 28410|         null|                null|        null|             null|                             null|                               null|                       null|                   null|                       null|          101720|               null|        null|                   -50|               null|               null|               null|               null|                   null|                                          null|                           null|             null|           null|                 null|    null|                null|                 null|                        null|                          0.0|                            0.0|                            0.0|                             0.0|                             0.0|             null|             null|             null|             null|               null|      null|          null|                     null|      null|          null|                     null|      null|          null|                     null|      null|          null|  16.264, -61.516333|    LE RAIZET AERO|                         0|                null|        null|\n",
      "|      7222|2018-08-08 18:00:...|  101300|                  -90|                         6|           270|         3.8|     295.95|     285.55|      52|                 59250|            0|                null|        null|             null|                                0|                               null|                       null|                   null|                       null|          101000|               null|        null|                   370|             289.95|               null|             299.05|               null|                 290.65|                                          null|                           null|              6.0|            6.9|                  -10|       0|                 0.0|                 null|                        null|                          0.0|                            0.0|                            0.0|                             0.0|                             0.0|             null|             null|             null|             null|               null|      null|          null|                     null|      null|          null|                     null|      null|          null|                     null|      null|          null|    47.15, -1.608833| NANTES-BOUGUENAIS|                         6|                null|           0|\n",
      "|     81408|2018-08-08 18:00:...|  101280|                 null|                         6|           100|         3.7|     305.05|     294.55|      54|                  null|         null|                null|        null|             null|                             null|                               null|                       null|                   null|                       null|          101200|               null|        null|                    40|               null|             295.45|               null|             306.25|                   null|                                          null|                           null|             null|           null|                 null|    null|                null|                 null|                        null|                          0.0|                            0.0|                            0.0|                             0.0|                             0.0|             null|             null|             null|             null|               null|      null|          null|                     null|      null|          null|                     null|      null|          null|                     null|      null|          null|3.890667, -51.804667|     SAINT GEORGES|                         6|                null|        null|\n",
      "|      7037|2018-08-08 21:00:...|  101490|                  100|                         2|            30|         3.7|     290.75|     285.65|      72|                 60000|            0|                null|        null|              100|                                8|                               2250|                       null|                   null|                       null|           99710|               null|        null|                   690|               null|               null|               null|               null|                 292.05|                                          null|                           null|              4.9|            6.3|                  -10|    null|                 0.0|                 null|                        null|                          0.0|                            0.0|                            0.0|                             0.0|                             0.0|             null|             null|             null|             null|                  8|      null|          2100|                     null|      null|          null|                     null|      null|          null|                     null|      null|          null|    49.383, 1.181667|        ROUEN-BOOS|                         2|                null|           0|\n",
      "|      7627|2018-08-08 21:00:...|  101050|                  -60|                         8|           150|         3.3|     295.15|     290.25|      74|                 20000|            0|                null|        null|             null|                                2|                               4320|                       null|                   null|                       null|           96370|               null|        null|                  -350|               null|               null|               null|               null|                 292.65|                                          null|                           null|              6.3|            9.7|                  -10|       2|                 0.0|                 null|                        null|                          0.2|                            1.0|                            1.0|                             1.0|                             1.2|             null|             null|             null|             null|                  2|      null|          4320|                     null|      null|          null|                     null|      null|          null|                     null|      null|          null| 43.005333, 1.106833|         ST GIRONS|                         8|                null|           0|\n",
      "|      7747|2018-08-08 21:00:...|  101150|                  100|                         1|           330|         1.4|     299.65|     294.45|      73|                 19980|            0|                null|        null|             null|                                0|                               null|                       null|                   null|                       null|          100650|               null|        null|                  -230|               null|               null|               null|               null|                 298.75|                                          null|                           null|              2.2|            3.6|                  -10|       0|                 0.0|                 null|                        null|                          0.0|                            0.0|                            0.0|                             0.0|                            -0.1|             null|             null|             null|             null|               null|      null|          null|                     null|      null|          null|                     null|      null|          null|                     null|      null|          null| 42.737167, 2.872833|         PERPIGNAN|                         1|                null|           0|\n",
      "|      7510|2018-08-09 00:00:...|  100960|                 -210|                         8|            30|         4.7|     292.65|     288.95|      79|                  9660|           62|                null|        null|               90|                                7|                               1750|                       null|                   null|                       null|          100400|               null|        null|                  -580|               null|               null|               null|               null|                 291.55|                                          null|                           null|              7.8|            7.8|                  -10|       2|                 0.0|                 null|                        null|                          0.8|                            0.8|                            0.8|                             0.8|                             1.2|             null|             null|             null|             null|                  1|      null|          1740|                        7|      null|          3420|                        7|      null|          4080|                     null|         9|          null|44.830667, -0.691333| BORDEAUX-MERIGNAC|                         8|                null|          62|\n",
      "|      7020|2018-08-09 03:00:...|  101350|                 -150|                         5|           250|         2.4|     289.45|     287.85|      90|                 16000|            2|Nuages couvrant p...|        null|               90|                                7|                                800|                         38|                   null|                       null|          101260|               null|        null|                   220|               null|               null|               null|               null|                   null|                                          null|                           null|              3.5|            3.5|                  -10|    null|                null|                 null|                        null|                          0.2|                            0.6|                            0.6|                            null|                            null|             null|             null|             null|             null|                  7|         8|           800|                     null|      null|          null|                     null|      null|          null|                     null|      null|          null|49.725167, -1.939833|   PTE DE LA HAGUE|                         5|Nuages couvrant p...|           2|\n",
      "|     71805|2018-08-09 03:00:...|  101100|                   60|                         2|           280|         3.6|     289.85|     289.05|      95|                 26100|            0|                null|        null|             null|                                0|                               null|                       null|                   null|                       null|          101020|               null|        null|                  -330|               null|               null|               null|               null|                 289.85|                                          null|                           null|              6.0|            6.0|                  -10|    null|                null|                 null|                        null|                          0.0|                            0.0|                            0.0|                             0.0|                             0.8|             null|             null|             null|             null|               null|      null|          null|                     null|      null|          null|                     null|      null|          null|                     null|      null|          null|46.766333, -56.17...|         ST-PIERRE|                         2|                null|           0|\n",
      "|      7139|2018-08-09 06:00:...|    null|                 null|                      null|           330|         2.6|     287.75|     285.75|      88|                 13580|           63|                null|        null|              100|                                4|                               1250|                       null|                   null|                       null|            null|               null|        null|                  null|             287.65|               null|             296.05|               null|                 291.85|                                          null|                           null|              5.1|            9.0|                  -10|       2|                 0.0|                 null|                        null|                          3.4|                            3.4|                            3.4|                             3.4|                             3.4|             null|             null|             null|             null|                  4|      null|          1290|                        6|      null|          1680|                        8|      null|          1980|                     null|      null|          null|   48.4455, 0.110167|           ALENCON|                      null|                null|          63|\n",
      "|      7149|2018-08-09 09:00:...|  100870|                   70|                         0|           290|         6.4|     291.35|     289.55|      89|                 10750|            0|               Pluie|           6|              100|                                8|                                250|                       null|                   null|                       null|           99820|               null|        null|                  -620|               null|               null|               null|               null|                   null|                                          null|                           null|              9.2|           10.0|                  -10|       1|                 0.0|                 null|                        null|                          0.2|                            0.6|                            9.1|                             9.1|                             9.1|             null|             null|             null|             null|                  4|      null|           240|                        7|      null|           360|                        7|      null|           510|                     null|      null|          null| 48.716833, 2.384333|              ORLY|                         0|               Pluie|           0|\n",
      "|      7434|2018-08-09 09:00:...|  101410|                  230|                         3|           250|         6.3|     289.35|     287.55|      89|                 46670|            0|                null|        null|              100|                                8|                                250|                       null|                   null|                       null|           96750|               null|        null|                  -280|               null|               null|               null|               null|                 290.35|                                          null|                           null|             11.4|           11.4|                  -10|       0|                 0.0|                 null|                        null|                          0.0|                            0.4|                            4.4|                            11.1|                            11.1|             null|             null|             null|             null|                  8|      null|           240|                     null|      null|          null|                     null|      null|          null|                     null|      null|          null|    45.861167, 1.175|LIMOGES-BELLEGARDE|                         3|                null|           0|\n",
      "+----------+--------------------+--------+---------------------+--------------------------+--------------+------------+-----------+-----------+--------+----------------------+-------------+--------------------+------------+-----------------+---------------------------------+-----------------------------------+---------------------------+-----------------------+---------------------------+----------------+-------------------+------------+----------------------+-------------------+-------------------+-------------------+-------------------+-----------------------+----------------------------------------------+-------------------------------+-----------------+---------------+---------------------+--------+--------------------+---------------------+----------------------------+-----------------------------+-------------------------------+-------------------------------+--------------------------------+--------------------------------+-----------------+-----------------+-----------------+-----------------+-------------------+----------+--------------+-------------------------+----------+--------------+-------------------------+----------+--------------+-------------------------+----------+--------------+--------------------+------------------+--------------------------+--------------------+------------+\n",
      "only showing top 20 rows\n",
      "\n"
     ]
    }
   ],
   "source": [
    "# File location and type\n",
    "file_location = \"hdfs://172.17.0.2:8020/user/cloudera/Projet_Grippe/donnees-synop-essentielles-espaces.csv\"\n",
    "file_type = \"csv\"\n",
    "\n",
    "# CSV options\n",
    "infer_schema = \"true\"\n",
    "first_row_is_header = \"true\"\n",
    "delimiter = \";\"\n",
    "\n",
    "\n",
    "# The applied options are for CSV files. For other file types, these will be ignored.\n",
    "df = spark.read.format(file_type) \\\n",
    "  .option(\"inferSchema\", infer_schema) \\\n",
    "  .option(\"header\", first_row_is_header) \\\n",
    "  .option(\"sep\", delimiter) \\\n",
    "  .load(file_location)\n",
    "\n",
    "df = df.withColumnRenamed(\"ID OMM station\", \"id_station\")\n",
    "\n",
    "df.show()"
   ]
  },
  {
   "cell_type": "code",
   "execution_count": 7,
   "metadata": {
    "collapsed": true
   },
   "outputs": [],
   "source": [
    "permanent_table_name = \"meteo\"\n",
    "\n",
    "df.write.format(\"parquet\").saveAsTable(permanent_table_name)"
   ]
  },
  {
   "cell_type": "code",
   "execution_count": 8,
   "metadata": {},
   "outputs": [
    {
     "name": "stdout",
     "output_type": "stream",
     "text": [
      "[Table(name='incidence_reg', database='default', description=None, tableType='MANAGED', isTemporary=False), Table(name='meteo', database='default', description=None, tableType='MANAGED', isTemporary=False)]\n"
     ]
    }
   ],
   "source": [
    "print(spark.catalog.listTables())"
   ]
  },
  {
   "cell_type": "markdown",
   "metadata": {},
   "source": [
    "# Requêtes sur les tables "
   ]
  },
  {
   "cell_type": "code",
   "execution_count": 9,
   "metadata": {},
   "outputs": [
    {
     "name": "stdout",
     "output_type": "stream",
     "text": [
      "+----------+--------------------+--------+------------+-----------+--------+\n",
      "|id_station|                Date|pression|vitesse_vent|temperature|humidite|\n",
      "+----------+--------------------+--------+------------+-----------+--------+\n",
      "|      7149|2015-02-03 15:00:...|  100540|         3.6|     275.75|      53|\n",
      "|      7149|2017-10-30 12:00:...|  102900|         4.8|     285.15|      57|\n",
      "|      7149|2017-11-05 21:00:...|  102040|         1.9|     278.25|      92|\n",
      "|      7149|2018-01-18 18:00:...|  100770|         4.0|     281.45|      82|\n",
      "|      7149|2018-01-19 21:00:...|  101540|         5.9|     276.95|      84|\n",
      "|      7149|2018-01-24 15:00:...|  101590|         9.7|     285.95|      68|\n",
      "|      7149|2018-01-21 18:00:...|  101370|         1.6|     280.75|      98|\n",
      "|      7149|2010-11-22 15:00:...|  100550|         4.1|     277.95|      78|\n",
      "|      7149|2016-10-02 12:00:...|  101750|         4.8|     290.15|      57|\n",
      "|      7149|2018-01-05 12:00:...|  100060|         5.1|     283.15|      82|\n",
      "|      7149|2018-01-05 15:00:...|  100060|         5.5|     283.45|      79|\n",
      "|      7149|2013-04-27 18:00:...|  101190|         4.6|     282.85|      50|\n",
      "|      7149|2013-04-26 00:00:...|  101640|         0.5|     288.15|      70|\n",
      "|      7149|2017-06-10 18:00:...|  101870|         3.2|     298.75|      39|\n",
      "|      7149|2017-06-16 00:00:...|  102140|         2.6|     290.45|      70|\n",
      "|      7149|2014-08-21 18:00:...|  101620|         2.6|     292.35|      42|\n",
      "|      7149|2014-08-21 21:00:...|  101670|         1.0|     286.05|      67|\n",
      "|      7149|2015-02-27 00:00:...|  101300|         5.6|     280.35|      82|\n",
      "|      7149|2015-02-24 18:00:...|  101640|         2.3|     278.25|      83|\n",
      "|      7149|2010-06-21 18:00:...|  102300|         4.1|     290.35|      56|\n",
      "+----------+--------------------+--------+------------+-----------+--------+\n",
      "only showing top 20 rows\n",
      "\n"
     ]
    }
   ],
   "source": [
    "df_meteo = spark.sql(\"SELECT id_station, Date, pression, vitesse_vent, temperature, humidite FROM meteo WHERE id_station='07149'\")\n",
    "df_meteo.show()"
   ]
  },
  {
   "cell_type": "code",
   "execution_count": 10,
   "metadata": {},
   "outputs": [
    {
     "name": "stdout",
     "output_type": "stream",
     "text": [
      "+----------+--------+-----------+--------+--------+------------+\n",
      "|      date|    time|temperature|humidite|pression|vitesse_vent|\n",
      "+----------+--------+-----------+--------+--------+------------+\n",
      "|2015-02-03|15:00:00|     275.75|      53|  100540|         3.6|\n",
      "|2017-10-30|12:00:00|     285.15|      57|  102900|         4.8|\n",
      "|2017-11-05|21:00:00|     278.25|      92|  102040|         1.9|\n",
      "|2018-01-18|18:00:00|     281.45|      82|  100770|         4.0|\n",
      "|2018-01-19|21:00:00|     276.95|      84|  101540|         5.9|\n",
      "|2018-01-24|15:00:00|     285.95|      68|  101590|         9.7|\n",
      "|2018-01-21|18:00:00|     280.75|      98|  101370|         1.6|\n",
      "|2010-11-22|15:00:00|     277.95|      78|  100550|         4.1|\n",
      "|2016-10-02|12:00:00|     290.15|      57|  101750|         4.8|\n",
      "|2018-01-05|12:00:00|     283.15|      82|  100060|         5.1|\n",
      "|2018-01-05|15:00:00|     283.45|      79|  100060|         5.5|\n",
      "|2013-04-27|18:00:00|     282.85|      50|  101190|         4.6|\n",
      "|2013-04-26|00:00:00|     288.15|      70|  101640|         0.5|\n",
      "|2017-06-10|18:00:00|     298.75|      39|  101870|         3.2|\n",
      "|2017-06-16|00:00:00|     290.45|      70|  102140|         2.6|\n",
      "|2014-08-21|18:00:00|     292.35|      42|  101620|         2.6|\n",
      "|2014-08-21|21:00:00|     286.05|      67|  101670|         1.0|\n",
      "|2015-02-27|00:00:00|     280.35|      82|  101300|         5.6|\n",
      "|2015-02-24|18:00:00|     278.25|      83|  101640|         2.3|\n",
      "|2010-06-21|18:00:00|     290.35|      56|  102300|         4.1|\n",
      "+----------+--------+-----------+--------+--------+------------+\n",
      "only showing top 20 rows\n",
      "\n"
     ]
    }
   ],
   "source": [
    "#Formatage date du df_meteo\n",
    "import pyspark.sql.functions as f\n",
    "#from pyspark.sql.functions import to_timestamp\n",
    "\n",
    "\n",
    "#Création colonne date et time\n",
    "split_col_1 = f.split(df_meteo['Date'], 'T')\n",
    "df_meteo = df_meteo.withColumn('f_Date', split_col_1.getItem(0))\n",
    "\n",
    "split_col_2 = f.split(df_meteo['f_Date'], ' ')\n",
    "df_meteo = df_meteo.withColumn('ff_Date', split_col_2.getItem(0))\n",
    "df_meteo = df_meteo.withColumn('time', split_col_2.getItem(1))\n",
    "\n",
    "\n",
    "#Selection des colonnes\n",
    "df_meteo=df_meteo.select(df_meteo.ff_Date.alias(\"date\"), \"time\" , \"temperature\", 'humidite', 'pression' , 'vitesse_vent')\n",
    "\n",
    "df_meteo.show()"
   ]
  },
  {
   "cell_type": "code",
   "execution_count": 11,
   "metadata": {},
   "outputs": [
    {
     "data": {
      "text/plain": [
       "25681"
      ]
     },
     "execution_count": 11,
     "metadata": {},
     "output_type": "execute_result"
    }
   ],
   "source": [
    "df_meteo.count()"
   ]
  },
  {
   "cell_type": "code",
   "execution_count": 12,
   "metadata": {},
   "outputs": [
    {
     "name": "stdout",
     "output_type": "stream",
     "text": [
      "+----------+--------+-----------+--------+--------+------------+------+-----+---------+---------+\n",
      "|      date|    time|temperature|humidite|pression|vitesse_vent|year_m|month|day_month|isoweek_m|\n",
      "+----------+--------+-----------+--------+--------+------------+------+-----+---------+---------+\n",
      "|2015-02-03|15:00:00|     275.75|      53|  100540|         3.6|  2015|    2|        3|        6|\n",
      "|2017-10-30|12:00:00|     285.15|      57|  102900|         4.8|  2017|   10|       30|       44|\n",
      "|2017-11-05|21:00:00|     278.25|      92|  102040|         1.9|  2017|   11|        5|       44|\n",
      "|2018-01-18|18:00:00|     281.45|      82|  100770|         4.0|  2018|    1|       18|        3|\n",
      "|2018-01-19|21:00:00|     276.95|      84|  101540|         5.9|  2018|    1|       19|        3|\n",
      "|2018-01-24|15:00:00|     285.95|      68|  101590|         9.7|  2018|    1|       24|        4|\n",
      "|2018-01-21|18:00:00|     280.75|      98|  101370|         1.6|  2018|    1|       21|        3|\n",
      "|2010-11-22|15:00:00|     277.95|      78|  100550|         4.1|  2010|   11|       22|       47|\n",
      "|2016-10-02|12:00:00|     290.15|      57|  101750|         4.8|  2016|   10|        2|       39|\n",
      "|2018-01-05|12:00:00|     283.15|      82|  100060|         5.1|  2018|    1|        5|        1|\n",
      "|2018-01-05|15:00:00|     283.45|      79|  100060|         5.5|  2018|    1|        5|        1|\n",
      "|2013-04-27|18:00:00|     282.85|      50|  101190|         4.6|  2013|    4|       27|       17|\n",
      "|2013-04-26|00:00:00|     288.15|      70|  101640|         0.5|  2013|    4|       26|       17|\n",
      "|2017-06-10|18:00:00|     298.75|      39|  101870|         3.2|  2017|    6|       10|       23|\n",
      "|2017-06-16|00:00:00|     290.45|      70|  102140|         2.6|  2017|    6|       16|       24|\n",
      "|2014-08-21|18:00:00|     292.35|      42|  101620|         2.6|  2014|    8|       21|       34|\n",
      "|2014-08-21|21:00:00|     286.05|      67|  101670|         1.0|  2014|    8|       21|       34|\n",
      "|2015-02-27|00:00:00|     280.35|      82|  101300|         5.6|  2015|    2|       27|        9|\n",
      "|2015-02-24|18:00:00|     278.25|      83|  101640|         2.3|  2015|    2|       24|        9|\n",
      "|2010-06-21|18:00:00|     290.35|      56|  102300|         4.1|  2010|    6|       21|       25|\n",
      "+----------+--------+-----------+--------+--------+------------+------+-----+---------+---------+\n",
      "only showing top 20 rows\n",
      "\n"
     ]
    }
   ],
   "source": [
    "import datetime\n",
    "from pyspark.sql.types import *\n",
    "\n",
    "#Creation colonne year, month et day_month\n",
    "split_col_3 = f.split(df_meteo['date'], '-')\n",
    "df_meteo=df_meteo.withColumn(\"year_m\", split_col_3.getItem(0))\n",
    "df_meteo=df_meteo.withColumn(\"month\", split_col_3.getItem(1))\n",
    "df_meteo=df_meteo.withColumn(\"day_month\", split_col_3.getItem(2))\n",
    "\n",
    "#Cast en integer\n",
    "df_meteo = df_meteo.withColumn(\"year_m\", df_meteo[\"year_m\"].cast(\"integer\"))\n",
    "df_meteo = df_meteo.withColumn(\"month\", df_meteo[\"month\"].cast(\"integer\"))\n",
    "df_meteo = df_meteo.withColumn(\"day_month\", df_meteo[\"day_month\"].cast(\"integer\"))\n",
    "\n",
    "#Creation colonne isoweek\n",
    "def date_to_isoweek(iso_year, iso_week, iso_day):\n",
    "    res = datetime.date(iso_year,iso_week,iso_day).isocalendar()[1]\n",
    "    return res  \n",
    "\n",
    "udf_isoweek = f.udf(date_to_isoweek, IntegerType())\n",
    "df_meteo = df_meteo.withColumn('isoweek_m', udf_isoweek(df_meteo.year_m,df_meteo.month,df_meteo.day_month))\n",
    "\n",
    "df_meteo.show()"
   ]
  },
  {
   "cell_type": "code",
   "execution_count": 13,
   "metadata": {},
   "outputs": [
    {
     "data": {
      "text/plain": [
       "25681"
      ]
     },
     "execution_count": 13,
     "metadata": {},
     "output_type": "execute_result"
    }
   ],
   "source": [
    "df_meteo=df_meteo.select(\"year_m\", \"isoweek_m\", \"time\" , \"temperature\", 'humidite', 'pression' , 'vitesse_vent')\n",
    "df_meteo.count()"
   ]
  },
  {
   "cell_type": "code",
   "execution_count": 14,
   "metadata": {},
   "outputs": [
    {
     "name": "stdout",
     "output_type": "stream",
     "text": [
      "+------+---------+--------+-----------+--------+--------+------------+\n",
      "|year_m|isoweek_m|    time|temperature|humidite|pression|vitesse_vent|\n",
      "+------+---------+--------+-----------+--------+--------+------------+\n",
      "|  2015|        6|15:00:00|     275.75|      53|  100540|         3.6|\n",
      "|  2017|       44|12:00:00|     285.15|      57|  102900|         4.8|\n",
      "|  2017|       44|21:00:00|     278.25|      92|  102040|         1.9|\n",
      "|  2018|        3|18:00:00|     281.45|      82|  100770|         4.0|\n",
      "|  2018|        3|21:00:00|     276.95|      84|  101540|         5.9|\n",
      "|  2018|        4|15:00:00|     285.95|      68|  101590|         9.7|\n",
      "|  2018|        3|18:00:00|     280.75|      98|  101370|         1.6|\n",
      "|  2010|       47|15:00:00|     277.95|      78|  100550|         4.1|\n",
      "|  2016|       39|12:00:00|     290.15|      57|  101750|         4.8|\n",
      "|  2018|        1|12:00:00|     283.15|      82|  100060|         5.1|\n",
      "|  2018|        1|15:00:00|     283.45|      79|  100060|         5.5|\n",
      "|  2013|       17|18:00:00|     282.85|      50|  101190|         4.6|\n",
      "|  2013|       17|00:00:00|     288.15|      70|  101640|         0.5|\n",
      "|  2017|       23|18:00:00|     298.75|      39|  101870|         3.2|\n",
      "|  2017|       24|00:00:00|     290.45|      70|  102140|         2.6|\n",
      "|  2014|       34|18:00:00|     292.35|      42|  101620|         2.6|\n",
      "|  2014|       34|21:00:00|     286.05|      67|  101670|         1.0|\n",
      "|  2015|        9|00:00:00|     280.35|      82|  101300|         5.6|\n",
      "|  2015|        9|18:00:00|     278.25|      83|  101640|         2.3|\n",
      "|  2010|       25|18:00:00|     290.35|      56|  102300|         4.1|\n",
      "+------+---------+--------+-----------+--------+--------+------------+\n",
      "only showing top 20 rows\n",
      "\n"
     ]
    }
   ],
   "source": [
    "df_meteo.show()"
   ]
  },
  {
   "cell_type": "code",
   "execution_count": 15,
   "metadata": {},
   "outputs": [
    {
     "data": {
      "text/plain": [
       "25681"
      ]
     },
     "execution_count": 15,
     "metadata": {},
     "output_type": "execute_result"
    }
   ],
   "source": [
    "#Formatage temperature et pression\n",
    "df_meteo = df_meteo.withColumn('temperature', f.round(df_meteo.temperature - float(273.15),0))\n",
    "df_meteo = df_meteo.withColumn(\"pression\", df_meteo[\"pression\"].cast(\"integer\"))\n",
    "df_meteo.count()"
   ]
  },
  {
   "cell_type": "code",
   "execution_count": 16,
   "metadata": {
    "collapsed": true
   },
   "outputs": [],
   "source": [
    "#Filtrage des horaires. 12H00 retenu uniquement (hypothèse)\n",
    "df_meteo = df_meteo.filter(\"Time == '12:00:00' \")"
   ]
  },
  {
   "cell_type": "code",
   "execution_count": 17,
   "metadata": {},
   "outputs": [
    {
     "data": {
      "text/plain": [
       "3212"
      ]
     },
     "execution_count": 17,
     "metadata": {},
     "output_type": "execute_result"
    }
   ],
   "source": [
    "df_meteo.count()"
   ]
  },
  {
   "cell_type": "code",
   "execution_count": 18,
   "metadata": {},
   "outputs": [
    {
     "name": "stdout",
     "output_type": "stream",
     "text": [
      "+------+---------+------------------+------------------+------------------+------------------+\n",
      "|year_m|isoweek_m|   avg_temperature|      avg_humidite|      avg_pression|  avg_vitesse_vent|\n",
      "+------+---------+------------------+------------------+------------------+------------------+\n",
      "|  2018|       22|22.714285714285715| 62.57142857142857|101665.71428571429| 2.828571428571429|\n",
      "|  2012|       39|              16.0|63.142857142857146|100922.85714285714| 5.871428571428572|\n",
      "|  2012|       24|17.571428571428573| 66.28571428571429|101374.28571428571|               4.8|\n",
      "|  2015|       19|16.857142857142858| 58.57142857142857|101592.85714285714|               5.1|\n",
      "|  2011|       42|12.714285714285714| 65.57142857142857|102084.28571428571| 3.757142857142857|\n",
      "|  2014|       23|20.714285714285715|60.142857142857146|101388.57142857143|3.0142857142857147|\n",
      "|  2016|       24|17.714285714285715|              69.0|100925.71428571429| 3.942857142857143|\n",
      "|  2012|       10| 9.428571428571429| 66.14285714285714|103107.14285714286| 4.171428571428572|\n",
      "|  2018|       38|              22.0|57.142857142857146|101751.42857142857| 6.357142857142857|\n",
      "|  2017|       20|21.142857142857142|48.857142857142854|102042.85714285714|               3.6|\n",
      "|  2011|       32|20.571428571428573|58.285714285714285|101605.71428571429|               5.2|\n",
      "|  2018|       14|15.285714285714286|54.285714285714285|100717.14285714286|               5.1|\n",
      "|  2012|       49| 4.714285714285714| 85.28571428571429|          101360.0| 3.585714285714286|\n",
      "|  2017|       38|17.857142857142858|60.285714285714285|102072.85714285714|               2.6|\n",
      "|  2016|       33|24.142857142857142| 55.57142857142857|101454.28571428571| 4.657142857142857|\n",
      "|  2010|       12|              13.0| 72.57142857142857|101178.57142857143|3.8857142857142857|\n",
      "|  2014|       50| 6.571428571428571| 87.57142857142857|101781.42857142857| 3.957142857142857|\n",
      "|  2016|       14|13.142857142857142|57.142857142857146|100998.57142857143| 5.928571428571429|\n",
      "|  2010|        7| 4.285714285714286| 78.42857142857143| 99924.28571428571|3.8142857142857136|\n",
      "|  2010|       28|22.142857142857142|60.142857142857146|101607.14285714286| 5.357142857142857|\n",
      "+------+---------+------------------+------------------+------------------+------------------+\n",
      "only showing top 20 rows\n",
      "\n"
     ]
    }
   ],
   "source": [
    "#GroupBy(isoweek et year), moyenne des temperature, humidité, pression et vitesse_vent\n",
    "df_meteo_final = df_meteo.groupBy(\"year_m\", \"isoweek_m\").mean()\n",
    "df_meteo_final = df_meteo_final.select(\"year_m\", \"isoweek_m\", \"avg(temperature)\" , \"avg(humidite)\", \"avg(pression)\", \"avg(vitesse_vent)\")\n",
    "\n",
    "#Renommer les colonnes\n",
    "df_meteo_final = df_meteo_final.withColumnRenamed(\"avg(temperature)\", \"avg_temperature\")\n",
    "df_meteo_final = df_meteo_final.withColumnRenamed(\"avg(humidite)\", \"avg_humidite\")\n",
    "df_meteo_final = df_meteo_final.withColumnRenamed(\"avg(pression)\", \"avg_pression\")\n",
    "df_meteo_final = df_meteo_final.withColumnRenamed(\"avg(vitesse_vent)\", \"avg_vitesse_vent\")\n",
    "\n",
    "df_meteo_final.show()"
   ]
  },
  {
   "cell_type": "code",
   "execution_count": 19,
   "metadata": {},
   "outputs": [
    {
     "name": "stdout",
     "output_type": "stream",
     "text": [
      "+------+---------+---------------+------------+------------+----------------+\n",
      "|year_m|isoweek_m|avg_temperature|avg_humidite|avg_pression|avg_vitesse_vent|\n",
      "+------+---------+---------------+------------+------------+----------------+\n",
      "|  2018|       22|             22|          62|      101665|               2|\n",
      "|  2012|       39|             16|          63|      100922|               5|\n",
      "|  2012|       24|             17|          66|      101374|               4|\n",
      "|  2015|       19|             16|          58|      101592|               5|\n",
      "|  2011|       42|             12|          65|      102084|               3|\n",
      "|  2014|       23|             20|          60|      101388|               3|\n",
      "|  2016|       24|             17|          69|      100925|               3|\n",
      "|  2012|       10|              9|          66|      103107|               4|\n",
      "|  2018|       38|             22|          57|      101751|               6|\n",
      "|  2017|       20|             21|          48|      102042|               3|\n",
      "|  2011|       32|             20|          58|      101605|               5|\n",
      "|  2018|       14|             15|          54|      100717|               5|\n",
      "|  2012|       49|              4|          85|      101360|               3|\n",
      "|  2017|       38|             17|          60|      102072|               2|\n",
      "|  2016|       33|             24|          55|      101454|               4|\n",
      "|  2010|       12|             13|          72|      101178|               3|\n",
      "|  2014|       50|              6|          87|      101781|               3|\n",
      "|  2016|       14|             13|          57|      100998|               5|\n",
      "|  2010|        7|              4|          78|       99924|               3|\n",
      "|  2010|       28|             22|          60|      101607|               5|\n",
      "+------+---------+---------------+------------+------------+----------------+\n",
      "only showing top 20 rows\n",
      "\n"
     ]
    }
   ],
   "source": [
    "#Cast to integer\n",
    "df_meteo_final = df_meteo_final.withColumn(\"avg_temperature\", df_meteo_final[\"avg_temperature\"].cast(\"integer\"))\n",
    "df_meteo_final = df_meteo_final.withColumn(\"avg_humidite\", df_meteo_final[\"avg_humidite\"].cast(\"integer\"))\n",
    "df_meteo_final = df_meteo_final.withColumn(\"avg_pression\", df_meteo_final[\"avg_pression\"].cast(\"integer\"))\n",
    "df_meteo_final = df_meteo_final.withColumn(\"avg_vitesse_vent\", df_meteo_final[\"avg_vitesse_vent\"].cast(\"integer\"))\n",
    "\n",
    "df_meteo_final.show()"
   ]
  },
  {
   "cell_type": "markdown",
   "metadata": {},
   "source": [
    "# Import des données Grippe"
   ]
  },
  {
   "cell_type": "code",
   "execution_count": 20,
   "metadata": {},
   "outputs": [
    {
     "name": "stdout",
     "output_type": "stream",
     "text": [
      "+------+---------+----+-------+------+------+----------+---------+---------+--------------------+\n",
      "|  week|indicator| inc|inc_low|inc_up|inc100|inc100_low|inc100_up|geo_insee|            geo_name|\n",
      "+------+---------+----+-------+------+------+----------+---------+---------+--------------------+\n",
      "|201847|        3| 706|      0|  1619|    37|         0|       85|       42|              ALSACE|\n",
      "|201847|        3| 469|      0|  1220|    14|         0|       36|       72|           AQUITAINE|\n",
      "|201847|        3|  79|      0|   234|     6|         0|       17|       83|            AUVERGNE|\n",
      "|201847|        3| 420|      0|   942|    28|         0|       62|       25|     BASSE-NORMANDIE|\n",
      "|201847|        3|   0|      0|     0|     0|         0|        0|       26|           BOURGOGNE|\n",
      "|201847|        3| 863|      0|  1877|    25|         0|       55|       53|            BRETAGNE|\n",
      "|201847|        3| 698|      1|  1395|    26|         0|       52|       24|              CENTRE|\n",
      "|201847|        3| 211|      0|   516|    15|         0|       37|       21|   CHAMPAGNE-ARDENNE|\n",
      "|201847|        3|  60|      0|   154|    18|         0|       46|       94|               CORSE|\n",
      "|201847|        3|   0|      0|     0|     0|         0|        0|       43|       FRANCHE-COMTE|\n",
      "|201847|        3| 229|      0|   577|    12|         0|       30|       23|     HAUTE-NORMANDIE|\n",
      "|201847|        3| 814|     12|  1616|    29|         1|       57|       91|LANGUEDOC-ROUSSILLON|\n",
      "|201847|        3|   0|      0|     0|     0|         0|        0|       74|            LIMOUSIN|\n",
      "|201847|        3|1589|     75|  3103|    66|         3|      129|       41|            LORRAINE|\n",
      "|201847|        3|  70|      0|   343|     2|         0|       11|       73|       MIDI-PYRENEES|\n",
      "|201847|        3| 843|      0|  2045|    20|         0|       49|       31|  NORD-PAS-DE-CALAIS|\n",
      "|201847|        3|1268|      0|  2828|    33|         0|       74|       52|    PAYS-DE-LA-LOIRE|\n",
      "|201847|        3| 265|      0|   826|    13|         0|       41|       22|            PICARDIE|\n",
      "|201847|        3|  71|      0|   410|     4|         0|       22|       54|    POITOU-CHARENTES|\n",
      "|201847|        3|1503|      0|  3218|    30|         0|       64|       93|PROVENCE-ALPES-CO...|\n",
      "+------+---------+----+-------+------+------+----------+---------+---------+--------------------+\n",
      "only showing top 20 rows\n",
      "\n"
     ]
    }
   ],
   "source": [
    "df_grippe = spark.sql(\"SELECT * FROM incidence_REG\")\n",
    "df_grippe.show()"
   ]
  },
  {
   "cell_type": "code",
   "execution_count": 21,
   "metadata": {},
   "outputs": [
    {
     "name": "stdout",
     "output_type": "stream",
     "text": [
      "+------+---------+----+-------+------+------+----------+---------+---------+-------------+\n",
      "|  week|indicator| inc|inc_low|inc_up|inc100|inc100_low|inc100_up|geo_insee|     geo_name|\n",
      "+------+---------+----+-------+------+------+----------+---------+---------+-------------+\n",
      "|201847|        3|3333|    891|  5775|    27|         7|       47|       11|ILE-DE-FRANCE|\n",
      "|201846|        3|1320|      0|  2759|    11|         0|       23|       11|ILE-DE-FRANCE|\n",
      "|201845|        3| 830|      0|  1826|     7|         0|       15|       11|ILE-DE-FRANCE|\n",
      "|201844|        3| 710|      0|  1694|     6|         0|       14|       11|ILE-DE-FRANCE|\n",
      "|201843|        3| 583|      0|  1322|     5|         0|       11|       11|ILE-DE-FRANCE|\n",
      "|201842|        3| 665|      0|  1430|     5|         0|       11|       11|ILE-DE-FRANCE|\n",
      "|201841|        3|1695|     30|  3360|    14|         0|       28|       11|ILE-DE-FRANCE|\n",
      "|201840|        3|1221|      0|  2592|    10|         0|       21|       11|ILE-DE-FRANCE|\n",
      "|201839|        3| 223|      0|   901|     2|         0|        8|       11|ILE-DE-FRANCE|\n",
      "|201838|        3| 744|      0|  1753|     6|         0|       14|       11|ILE-DE-FRANCE|\n",
      "|201837|        3| 646|      0|  1381|     5|         0|       11|       11|ILE-DE-FRANCE|\n",
      "|201836|        3|  67|      0|   252|     1|         0|        3|       11|ILE-DE-FRANCE|\n",
      "|201835|        3|   0|      0|     0|     0|         0|        0|       11|ILE-DE-FRANCE|\n",
      "|201834|        3|   0|      0|     0|     0|         0|        0|       11|ILE-DE-FRANCE|\n",
      "|201833|        3|   0|      0|     0|     0|         0|        0|       11|ILE-DE-FRANCE|\n",
      "|201832|        3|   0|      0|     0|     0|         0|        0|       11|ILE-DE-FRANCE|\n",
      "|201831|        3| 245|      0|   640|     2|         0|        5|       11|ILE-DE-FRANCE|\n",
      "|201830|        3| 272|      0|   806|     2|         0|        6|       11|ILE-DE-FRANCE|\n",
      "|201829|        3| 425|      0|  1005|     3|         0|        8|       11|ILE-DE-FRANCE|\n",
      "|201828|        3| 301|      0|   812|     2|         0|        6|       11|ILE-DE-FRANCE|\n",
      "+------+---------+----+-------+------+------+----------+---------+---------+-------------+\n",
      "only showing top 20 rows\n",
      "\n"
     ]
    }
   ],
   "source": [
    "#Filtre ILE-DE-FRANCE\n",
    "df_grippe = df_grippe.filter(\"geo_name == 'ILE-DE-FRANCE' \")\n",
    "df_grippe.show()"
   ]
  },
  {
   "cell_type": "code",
   "execution_count": 22,
   "metadata": {},
   "outputs": [
    {
     "name": "stdout",
     "output_type": "stream",
     "text": [
      "+------+---------+----+-------+------+------+----------+---------+---------+-------------+------+---------+\n",
      "|  week|indicator| inc|inc_low|inc_up|inc100|inc100_low|inc100_up|geo_insee|     geo_name|year_g|isoweek_g|\n",
      "+------+---------+----+-------+------+------+----------+---------+---------+-------------+------+---------+\n",
      "|201847|        3|3333|    891|  5775|    27|         7|       47|       11|ILE-DE-FRANCE|  2018|       47|\n",
      "|201846|        3|1320|      0|  2759|    11|         0|       23|       11|ILE-DE-FRANCE|  2018|       46|\n",
      "|201845|        3| 830|      0|  1826|     7|         0|       15|       11|ILE-DE-FRANCE|  2018|       45|\n",
      "|201844|        3| 710|      0|  1694|     6|         0|       14|       11|ILE-DE-FRANCE|  2018|       44|\n",
      "|201843|        3| 583|      0|  1322|     5|         0|       11|       11|ILE-DE-FRANCE|  2018|       43|\n",
      "|201842|        3| 665|      0|  1430|     5|         0|       11|       11|ILE-DE-FRANCE|  2018|       42|\n",
      "|201841|        3|1695|     30|  3360|    14|         0|       28|       11|ILE-DE-FRANCE|  2018|       41|\n",
      "|201840|        3|1221|      0|  2592|    10|         0|       21|       11|ILE-DE-FRANCE|  2018|       40|\n",
      "|201839|        3| 223|      0|   901|     2|         0|        8|       11|ILE-DE-FRANCE|  2018|       39|\n",
      "|201838|        3| 744|      0|  1753|     6|         0|       14|       11|ILE-DE-FRANCE|  2018|       38|\n",
      "|201837|        3| 646|      0|  1381|     5|         0|       11|       11|ILE-DE-FRANCE|  2018|       37|\n",
      "|201836|        3|  67|      0|   252|     1|         0|        3|       11|ILE-DE-FRANCE|  2018|       36|\n",
      "|201835|        3|   0|      0|     0|     0|         0|        0|       11|ILE-DE-FRANCE|  2018|       35|\n",
      "|201834|        3|   0|      0|     0|     0|         0|        0|       11|ILE-DE-FRANCE|  2018|       34|\n",
      "|201833|        3|   0|      0|     0|     0|         0|        0|       11|ILE-DE-FRANCE|  2018|       33|\n",
      "|201832|        3|   0|      0|     0|     0|         0|        0|       11|ILE-DE-FRANCE|  2018|       32|\n",
      "|201831|        3| 245|      0|   640|     2|         0|        5|       11|ILE-DE-FRANCE|  2018|       31|\n",
      "|201830|        3| 272|      0|   806|     2|         0|        6|       11|ILE-DE-FRANCE|  2018|       30|\n",
      "|201829|        3| 425|      0|  1005|     3|         0|        8|       11|ILE-DE-FRANCE|  2018|       29|\n",
      "|201828|        3| 301|      0|   812|     2|         0|        6|       11|ILE-DE-FRANCE|  2018|       28|\n",
      "+------+---------+----+-------+------+------+----------+---------+---------+-------------+------+---------+\n",
      "only showing top 20 rows\n",
      "\n"
     ]
    }
   ],
   "source": [
    "#Cast \"week\" en string\n",
    "df_grippe = df_grippe.withColumn(\"week\", df_grippe[\"week\"].cast(\"string\"))\n",
    "\n",
    "#Split Annee et n° Semaine\n",
    "df_grippe = df_grippe.withColumn(\"year_g\", df_grippe.week.substr(1, 4))\n",
    "df_grippe = df_grippe.withColumn(\"isoweek_g\", df_grippe.week.substr(5, 7))\n",
    "\n",
    "df_grippe.show()"
   ]
  },
  {
   "cell_type": "code",
   "execution_count": 23,
   "metadata": {
    "collapsed": true
   },
   "outputs": [],
   "source": [
    "import datetime #installer le package via le terminal\n",
    "from pyspark.sql.types import *\n",
    "from pyspark.sql.functions import lit\n",
    "\n",
    "#Cast \"week\" en string\n",
    "df_grippe = df_grippe.withColumn(\"year_g\", df_grippe[\"year_g\"].cast(\"integer\"))\n",
    "df_grippe = df_grippe.withColumn(\"isoweek_g\", df_grippe[\"isoweek_g\"].cast(\"integer\"))\n",
    "\n",
    "\n",
    "#isoweek to date (en considérant le dimanche)\n",
    "def iso_to_gregorian(iso_year, iso_week, iso_day):\n",
    "    jan4 = datetime.date(iso_year, 1, 4)\n",
    "    start = jan4 - datetime.timedelta(days=jan4.isoweekday()-1)\n",
    "    return str(start + datetime.timedelta(weeks=iso_week-1, days=iso_day-1))\n",
    "\n",
    "udf_fct = f.udf(iso_to_gregorian, StringType())\n",
    "df_grippe = df_grippe.withColumn('date', udf_fct(df_grippe.year_g,df_grippe.isoweek_g,lit(7)))"
   ]
  },
  {
   "cell_type": "code",
   "execution_count": 24,
   "metadata": {},
   "outputs": [
    {
     "name": "stdout",
     "output_type": "stream",
     "text": [
      "+------+---------+----------+----+-------+------+------+----------+---------+\n",
      "|year_g|isoweek_g|      date| inc|inc_low|inc_up|inc100|inc100_low|inc100_up|\n",
      "+------+---------+----------+----+-------+------+------+----------+---------+\n",
      "|  2018|       47|2018-11-25|3333|    891|  5775|    27|         7|       47|\n",
      "|  2018|       46|2018-11-18|1320|      0|  2759|    11|         0|       23|\n",
      "|  2018|       45|2018-11-11| 830|      0|  1826|     7|         0|       15|\n",
      "|  2018|       44|2018-11-04| 710|      0|  1694|     6|         0|       14|\n",
      "|  2018|       43|2018-10-28| 583|      0|  1322|     5|         0|       11|\n",
      "|  2018|       42|2018-10-21| 665|      0|  1430|     5|         0|       11|\n",
      "|  2018|       41|2018-10-14|1695|     30|  3360|    14|         0|       28|\n",
      "|  2018|       40|2018-10-07|1221|      0|  2592|    10|         0|       21|\n",
      "|  2018|       39|2018-09-30| 223|      0|   901|     2|         0|        8|\n",
      "|  2018|       38|2018-09-23| 744|      0|  1753|     6|         0|       14|\n",
      "|  2018|       37|2018-09-16| 646|      0|  1381|     5|         0|       11|\n",
      "|  2018|       36|2018-09-09|  67|      0|   252|     1|         0|        3|\n",
      "|  2018|       35|2018-09-02|   0|      0|     0|     0|         0|        0|\n",
      "|  2018|       34|2018-08-26|   0|      0|     0|     0|         0|        0|\n",
      "|  2018|       33|2018-08-19|   0|      0|     0|     0|         0|        0|\n",
      "|  2018|       32|2018-08-12|   0|      0|     0|     0|         0|        0|\n",
      "|  2018|       31|2018-08-05| 245|      0|   640|     2|         0|        5|\n",
      "|  2018|       30|2018-07-29| 272|      0|   806|     2|         0|        6|\n",
      "|  2018|       29|2018-07-22| 425|      0|  1005|     3|         0|        8|\n",
      "|  2018|       28|2018-07-15| 301|      0|   812|     2|         0|        6|\n",
      "+------+---------+----------+----+-------+------+------+----------+---------+\n",
      "only showing top 20 rows\n",
      "\n"
     ]
    }
   ],
   "source": [
    "df_grippe_final=df_grippe.select(\"year_g\", \"isoweek_g\", \"date\", \"inc\", \"inc_low\", \"inc_up\", \"inc100\", \"inc100_low\", \"inc100_up\")\n",
    "df_grippe_final.show()"
   ]
  },
  {
   "cell_type": "code",
   "execution_count": 25,
   "metadata": {},
   "outputs": [
    {
     "name": "stdout",
     "output_type": "stream",
     "text": [
      "root\n",
      " |-- year_g: integer (nullable = true)\n",
      " |-- isoweek_g: integer (nullable = true)\n",
      " |-- date: string (nullable = true)\n",
      " |-- inc: integer (nullable = true)\n",
      " |-- inc_low: integer (nullable = true)\n",
      " |-- inc_up: integer (nullable = true)\n",
      " |-- inc100: integer (nullable = true)\n",
      " |-- inc100_low: integer (nullable = true)\n",
      " |-- inc100_up: integer (nullable = true)\n",
      "\n"
     ]
    }
   ],
   "source": [
    "df_grippe_final.printSchema()"
   ]
  },
  {
   "cell_type": "markdown",
   "metadata": {},
   "source": [
    "# Import des vacances scolaires"
   ]
  },
  {
   "cell_type": "code",
   "execution_count": 26,
   "metadata": {},
   "outputs": [
    {
     "name": "stdout",
     "output_type": "stream",
     "text": [
      "root\n",
      " |-- date: timestamp (nullable = true)\n",
      " |-- vacances_zone_a: boolean (nullable = true)\n",
      " |-- vacances_zone_b: boolean (nullable = true)\n",
      " |-- vacances_zone_c: boolean (nullable = true)\n",
      " |-- nom_vacances: string (nullable = true)\n",
      "\n",
      "+----------+---------------+\n",
      "|    date_v|vacances_zone_c|\n",
      "+----------+---------------+\n",
      "|2008-01-01|          false|\n",
      "|2008-01-02|          false|\n",
      "|2008-01-03|          false|\n",
      "|2008-01-04|          false|\n",
      "|2008-01-05|          false|\n",
      "|2008-01-06|          false|\n",
      "|2008-01-07|          false|\n",
      "|2008-01-08|          false|\n",
      "|2008-01-09|          false|\n",
      "|2008-01-10|          false|\n",
      "|2008-01-11|          false|\n",
      "|2008-01-12|          false|\n",
      "|2008-01-13|          false|\n",
      "|2008-01-14|          false|\n",
      "|2008-01-15|          false|\n",
      "|2008-01-16|          false|\n",
      "|2008-01-17|          false|\n",
      "|2008-01-18|          false|\n",
      "|2008-01-19|          false|\n",
      "|2008-01-20|          false|\n",
      "+----------+---------------+\n",
      "only showing top 20 rows\n",
      "\n"
     ]
    }
   ],
   "source": [
    "# File location and type\n",
    "file_location = \"hdfs://172.17.0.2:8020/user/cloudera/Projet_Grippe/vacances_scolaire.csv\"\n",
    "file_type = \"csv\"\n",
    "\n",
    "# CSV options\n",
    "infer_schema = \"true\"\n",
    "first_row_is_header = \"true\"\n",
    "delimiter = \",\"\n",
    "\n",
    "\n",
    "# The applied options are for CSV files. For other file types, these will be ignored.\n",
    "df_vac = spark.read.format(file_type) \\\n",
    "  .option(\"inferSchema\", infer_schema) \\\n",
    "  .option(\"header\", first_row_is_header) \\\n",
    "  .option(\"sep\", delimiter) \\\n",
    "  .load(file_location)\n",
    "\n",
    "# Permanent table creation\n",
    "\n",
    "permanent_table_name = \"vacances\"\n",
    "df_vac.write.format(\"parquet\").saveAsTable(permanent_table_name)\n",
    "df_vac.printSchema()\n",
    "\n",
    "#Suppression des colonnes inutiles\n",
    "\n",
    "df_vac = df_vac.drop('vacances_zone_a', 'vacances_zone_b', 'nom_vacances')\n",
    "\n",
    "#Cast de la date en string\n",
    "\n",
    "df_vac = df_vac.withColumn(\"date\", df_vac[\"date\"].cast(\"string\"))\n",
    "\n",
    "#Recuperation de la date et suppression des heures\n",
    "\n",
    "split_col_date = f.split(df_vac['date'], ' ')\n",
    "df_vac=df_vac.withColumn(\"f_date\", split_col_date.getItem(0))\n",
    "df_vac = df_vac.drop('date')\n",
    "df_vac=df_vac.withColumnRenamed(\"f_date\", 'date_v')\n",
    "df_vac = df_vac.select('date_v','vacances_zone_c')\n",
    "\n",
    "df_vac.show()\n",
    "\n"
   ]
  },
  {
   "cell_type": "markdown",
   "metadata": {},
   "source": [
    "# Croisement des données"
   ]
  },
  {
   "cell_type": "code",
   "execution_count": 27,
   "metadata": {},
   "outputs": [
    {
     "name": "stdout",
     "output_type": "stream",
     "text": [
      "+------+---------+---------------+------------+------------+----------------+------+---------+----------+-----+-------+------+------+----------+---------+\n",
      "|year_m|isoweek_m|avg_temperature|avg_humidite|avg_pression|avg_vitesse_vent|year_g|isoweek_g|      date|  inc|inc_low|inc_up|inc100|inc100_low|inc100_up|\n",
      "+------+---------+---------------+------------+------------+----------------+------+---------+----------+-----+-------+------+------+----------+---------+\n",
      "|  2018|       22|             22|          62|      101665|               2|  2018|       22|2018-06-03|  323|      0|   738|     3|         0|        6|\n",
      "|  2012|       39|             16|          63|      100922|               5|  2012|       39|2012-09-30|  644|      0|  1304|     5|         0|       11|\n",
      "|  2012|       24|             17|          66|      101374|               4|  2012|       24|2012-06-17|   54|      0|   312|     0|         0|        2|\n",
      "|  2015|       19|             16|          58|      101592|               5|  2015|       19|2015-05-10| 2258|      0|  4820|    19|         0|       40|\n",
      "|  2011|       42|             12|          65|      102084|               3|  2011|       42|2011-10-23| 2003|     67|  3939|    17|         1|       33|\n",
      "|  2014|       23|             20|          60|      101388|               3|  2014|       23|2014-06-08|    0|      0|     0|     0|         0|        0|\n",
      "|  2016|       24|             17|          69|      100925|               3|  2016|       24|2016-06-19| 1844|      0|  4069|    15|         0|       33|\n",
      "|  2012|       10|              9|          66|      103107|               4|  2012|       10|2012-03-11|16045|  10704| 21386|   136|        91|      181|\n",
      "|  2018|       38|             22|          57|      101751|               6|  2018|       38|2018-09-23|  744|      0|  1753|     6|         0|       14|\n",
      "|  2017|       20|             21|          48|      102042|               3|  2017|       20|2017-05-21|  753|      0|  2000|     6|         0|       16|\n",
      "|  2011|       32|             20|          58|      101605|               5|  2011|       32|2011-08-14| 1291|      0|  2736|    11|         0|       23|\n",
      "|  2018|       14|             15|          54|      100717|               5|  2018|       14|2018-04-08| 6457|   3520|  9394|    53|        29|       77|\n",
      "|  2012|       49|              4|          85|      101360|               3|  2012|       49|2012-12-09| 7999|   4514| 11484|    68|        38|       98|\n",
      "|  2017|       38|             17|          60|      102072|               2|  2017|       38|2017-09-24| 1065|      0|  2541|     9|         0|       21|\n",
      "|  2016|       33|             24|          55|      101454|               4|  2016|       33|2016-08-21|  109|      0|   380|     1|         0|        3|\n",
      "|  2010|       12|             13|          72|      101178|               3|  2010|       12|2010-03-28|  337|      0|  1029|     3|         0|        9|\n",
      "|  2014|       50|              6|          87|      101781|               3|  2014|       50|2014-12-14|12810|   7710| 17910|   107|        64|      150|\n",
      "|  2016|       14|             13|          57|      100998|               5|  2016|       14|2016-04-10|17132|  11341| 22923|   141|        93|      189|\n",
      "|  2010|        7|              4|          78|       99924|               3|  2010|        7|2010-02-21| 2646|    953|  4339|    23|         8|       38|\n",
      "|  2010|       28|             22|          60|      101607|               5|  2010|       28|2010-07-18|   63|      0|   310|     1|         0|        3|\n",
      "+------+---------+---------------+------------+------------+----------------+------+---------+----------+-----+-------+------+------+----------+---------+\n",
      "only showing top 20 rows\n",
      "\n"
     ]
    }
   ],
   "source": [
    "#Jointure meteo - grippe\n",
    "df_final = df_meteo_final.join(df_grippe_final, (df_meteo_final.year_m== df_grippe_final.year_g) & (df_meteo_final.isoweek_m== df_grippe_final.isoweek_g))\n",
    "\n",
    "df_final.show()"
   ]
  },
  {
   "cell_type": "code",
   "execution_count": 28,
   "metadata": {},
   "outputs": [
    {
     "name": "stdout",
     "output_type": "stream",
     "text": [
      "+------+------+---------+----------+---------------+------------+------------+----------------+-----+-------+------+------+----------+---------+\n",
      "|    id|year_m|isoweek_m|      date|avg_temperature|avg_humidite|avg_pression|avg_vitesse_vent|  inc|inc_low|inc_up|inc100|inc100_low|inc100_up|\n",
      "+------+------+---------+----------+---------------+------------+------------+----------------+-----+-------+------+------+----------+---------+\n",
      "|201822|  2018|       22|2018-06-03|             22|          62|      101665|               2|  323|      0|   738|     3|         0|        6|\n",
      "|201239|  2012|       39|2012-09-30|             16|          63|      100922|               5|  644|      0|  1304|     5|         0|       11|\n",
      "|201224|  2012|       24|2012-06-17|             17|          66|      101374|               4|   54|      0|   312|     0|         0|        2|\n",
      "|201519|  2015|       19|2015-05-10|             16|          58|      101592|               5| 2258|      0|  4820|    19|         0|       40|\n",
      "|201142|  2011|       42|2011-10-23|             12|          65|      102084|               3| 2003|     67|  3939|    17|         1|       33|\n",
      "|201423|  2014|       23|2014-06-08|             20|          60|      101388|               3|    0|      0|     0|     0|         0|        0|\n",
      "|201624|  2016|       24|2016-06-19|             17|          69|      100925|               3| 1844|      0|  4069|    15|         0|       33|\n",
      "|201210|  2012|       10|2012-03-11|              9|          66|      103107|               4|16045|  10704| 21386|   136|        91|      181|\n",
      "|201838|  2018|       38|2018-09-23|             22|          57|      101751|               6|  744|      0|  1753|     6|         0|       14|\n",
      "|201720|  2017|       20|2017-05-21|             21|          48|      102042|               3|  753|      0|  2000|     6|         0|       16|\n",
      "|201132|  2011|       32|2011-08-14|             20|          58|      101605|               5| 1291|      0|  2736|    11|         0|       23|\n",
      "|201814|  2018|       14|2018-04-08|             15|          54|      100717|               5| 6457|   3520|  9394|    53|        29|       77|\n",
      "|201249|  2012|       49|2012-12-09|              4|          85|      101360|               3| 7999|   4514| 11484|    68|        38|       98|\n",
      "|201738|  2017|       38|2017-09-24|             17|          60|      102072|               2| 1065|      0|  2541|     9|         0|       21|\n",
      "|201633|  2016|       33|2016-08-21|             24|          55|      101454|               4|  109|      0|   380|     1|         0|        3|\n",
      "|201012|  2010|       12|2010-03-28|             13|          72|      101178|               3|  337|      0|  1029|     3|         0|        9|\n",
      "|201450|  2014|       50|2014-12-14|              6|          87|      101781|               3|12810|   7710| 17910|   107|        64|      150|\n",
      "|201614|  2016|       14|2016-04-10|             13|          57|      100998|               5|17132|  11341| 22923|   141|        93|      189|\n",
      "| 20107|  2010|        7|2010-02-21|              4|          78|       99924|               3| 2646|    953|  4339|    23|         8|       38|\n",
      "|201028|  2010|       28|2010-07-18|             22|          60|      101607|               5|   63|      0|   310|     1|         0|        3|\n",
      "+------+------+---------+----------+---------------+------------+------------+----------------+-----+-------+------+------+----------+---------+\n",
      "only showing top 20 rows\n",
      "\n"
     ]
    }
   ],
   "source": [
    "#Création colonne id et cast en integer\n",
    "from pyspark.sql.functions import concat, col\n",
    "df_final = df_final.withColumn(\"id\", concat(col(\"year_m\"), col(\"isoweek_m\")) )\n",
    "df_final = df_final.withColumn(\"id\", df_final[\"id\"].cast(\"integer\"))\n",
    "\n",
    "\n",
    "df_final=df_final.select(\"id\", \"year_m\", \"isoweek_m\",\"date\" ,\"avg_temperature\", \"avg_humidite\", \"avg_pression\", \"avg_vitesse_vent\", \"inc\", \"inc_low\", \"inc_up\", \"inc100\", \"inc100_low\", \"inc100_up\" )\n",
    "\n",
    "df_final.show()"
   ]
  },
  {
   "cell_type": "code",
   "execution_count": 29,
   "metadata": {},
   "outputs": [
    {
     "name": "stdout",
     "output_type": "stream",
     "text": [
      "+------+------+---------+----------+---------------+------------+------------+----------------+-----+-------+------+------+----------+---------+----------+---------------+\n",
      "|    id|year_m|isoweek_m|      date|avg_temperature|avg_humidite|avg_pression|avg_vitesse_vent|  inc|inc_low|inc_up|inc100|inc100_low|inc100_up|    date_v|vacances_zone_c|\n",
      "+------+------+---------+----------+---------------+------------+------------+----------------+-----+-------+------+------+----------+---------+----------+---------------+\n",
      "|201822|  2018|       22|2018-06-03|             22|          62|      101665|               2|  323|      0|   738|     3|         0|        6|2018-06-03|          false|\n",
      "|201239|  2012|       39|2012-09-30|             16|          63|      100922|               5|  644|      0|  1304|     5|         0|       11|2012-09-30|          false|\n",
      "|201224|  2012|       24|2012-06-17|             17|          66|      101374|               4|   54|      0|   312|     0|         0|        2|2012-06-17|          false|\n",
      "|201519|  2015|       19|2015-05-10|             16|          58|      101592|               5| 2258|      0|  4820|    19|         0|       40|2015-05-10|          false|\n",
      "|201142|  2011|       42|2011-10-23|             12|          65|      102084|               3| 2003|     67|  3939|    17|         1|       33|2011-10-23|           true|\n",
      "|201423|  2014|       23|2014-06-08|             20|          60|      101388|               3|    0|      0|     0|     0|         0|        0|2014-06-08|          false|\n",
      "|201624|  2016|       24|2016-06-19|             17|          69|      100925|               3| 1844|      0|  4069|    15|         0|       33|2016-06-19|          false|\n",
      "|201210|  2012|       10|2012-03-11|              9|          66|      103107|               4|16045|  10704| 21386|   136|        91|      181|2012-03-11|          false|\n",
      "|201838|  2018|       38|2018-09-23|             22|          57|      101751|               6|  744|      0|  1753|     6|         0|       14|2018-09-23|          false|\n",
      "|201720|  2017|       20|2017-05-21|             21|          48|      102042|               3|  753|      0|  2000|     6|         0|       16|2017-05-21|          false|\n",
      "|201132|  2011|       32|2011-08-14|             20|          58|      101605|               5| 1291|      0|  2736|    11|         0|       23|2011-08-14|           true|\n",
      "|201814|  2018|       14|2018-04-08|             15|          54|      100717|               5| 6457|   3520|  9394|    53|        29|       77|2018-04-08|          false|\n",
      "|201249|  2012|       49|2012-12-09|              4|          85|      101360|               3| 7999|   4514| 11484|    68|        38|       98|2012-12-09|          false|\n",
      "|201738|  2017|       38|2017-09-24|             17|          60|      102072|               2| 1065|      0|  2541|     9|         0|       21|2017-09-24|          false|\n",
      "|201633|  2016|       33|2016-08-21|             24|          55|      101454|               4|  109|      0|   380|     1|         0|        3|2016-08-21|           true|\n",
      "|201012|  2010|       12|2010-03-28|             13|          72|      101178|               3|  337|      0|  1029|     3|         0|        9|2010-03-28|          false|\n",
      "|201450|  2014|       50|2014-12-14|              6|          87|      101781|               3|12810|   7710| 17910|   107|        64|      150|2014-12-14|          false|\n",
      "|201614|  2016|       14|2016-04-10|             13|          57|      100998|               5|17132|  11341| 22923|   141|        93|      189|2016-04-10|          false|\n",
      "| 20107|  2010|        7|2010-02-21|              4|          78|       99924|               3| 2646|    953|  4339|    23|         8|       38|2010-02-21|           true|\n",
      "|201028|  2010|       28|2010-07-18|             22|          60|      101607|               5|   63|      0|   310|     1|         0|        3|2010-07-18|           true|\n",
      "+------+------+---------+----------+---------------+------------+------------+----------------+-----+-------+------+------+----------+---------+----------+---------------+\n",
      "only showing top 20 rows\n",
      "\n"
     ]
    }
   ],
   "source": [
    "#Jointure vacances scolaires avec meteo_grippe\n",
    "\n",
    "df_grippe_meteo_vac = df_final.join(df_vac, df_final.date == df_vac.date_v)\n",
    "df_grippe_meteo_vac.show()"
   ]
  },
  {
   "cell_type": "code",
   "execution_count": 30,
   "metadata": {},
   "outputs": [
    {
     "name": "stdout",
     "output_type": "stream",
     "text": [
      "root\n",
      " |-- id: integer (nullable = true)\n",
      " |-- year_m: integer (nullable = true)\n",
      " |-- isoweek_m: integer (nullable = true)\n",
      " |-- date: string (nullable = true)\n",
      " |-- avg_temperature: integer (nullable = true)\n",
      " |-- avg_humidite: integer (nullable = true)\n",
      " |-- avg_pression: integer (nullable = true)\n",
      " |-- avg_vitesse_vent: integer (nullable = true)\n",
      " |-- inc: integer (nullable = true)\n",
      " |-- inc_low: integer (nullable = true)\n",
      " |-- inc_up: integer (nullable = true)\n",
      " |-- inc100: integer (nullable = true)\n",
      " |-- inc100_low: integer (nullable = true)\n",
      " |-- inc100_up: integer (nullable = true)\n",
      " |-- vacances_zone_c: boolean (nullable = true)\n",
      "\n"
     ]
    }
   ],
   "source": [
    "df_grippe_meteo_vac = df_grippe_meteo_vac.drop('date_v')\n",
    "df_grippe_meteo_vac.printSchema()"
   ]
  },
  {
   "cell_type": "markdown",
   "metadata": {},
   "source": [
    "# Export vers ElasticSearch"
   ]
  },
  {
   "cell_type": "code",
   "execution_count": null,
   "metadata": {
    "collapsed": true
   },
   "outputs": [],
   "source": [
    "import pandas as pd\n",
    "pandas_grippe_meteo = df_grippe_meteo_vac.toPandas()\n",
    "pandas_grippe_meteo.to_json(orient='records',path_or_buf = \"grippe_meteo_vac.json\")\n",
    "pandas_grippe_meteo.to_csv(path_or_buf = \"bokeh/grippe_meteo_vac.csv\")"
   ]
  },
  {
   "cell_type": "code",
   "execution_count": null,
   "metadata": {
    "collapsed": true
   },
   "outputs": [],
   "source": [
    "import elasticsearch\n",
    "from elasticsearch import helpers\n",
    "es = elasticsearch.Elasticsearch(['172.17.0.4'],http_auth=('elastic', 'secret'), scheme=\"http\", port=9200)"
   ]
  },
  {
   "cell_type": "code",
   "execution_count": null,
   "metadata": {
    "collapsed": true
   },
   "outputs": [],
   "source": [
    "# import data from pandas dataframe into elastic\n",
    "\n",
    "import json\n",
    "tmp = pandas_grippe_meteo.to_json(orient='records')\n",
    "df_json= json.loads(tmp)\n",
    "for doc in df_json:\n",
    "    es.index(index=\"test\", doc_type=\"grippe_meteo\",body=doc)"
   ]
  },
  {
   "cell_type": "markdown",
   "metadata": {},
   "source": [
    "# Stockage sur Cassandra"
   ]
  },
  {
   "cell_type": "code",
   "execution_count": 31,
   "metadata": {
    "collapsed": true
   },
   "outputs": [],
   "source": [
    " df_grippe_meteo_vac.write\\\n",
    "    .format(\"org.apache.spark.sql.cassandra\")\\\n",
    "    .mode('append')\\\n",
    "    .options(table=\"grippe_meteo_vac\", keyspace=\"smart_data\")\\\n",
    "    .save()"
   ]
  },
  {
   "cell_type": "code",
   "execution_count": null,
   "metadata": {
    "collapsed": true
   },
   "outputs": [],
   "source": []
  }
 ],
 "metadata": {
  "kernelspec": {
   "display_name": "Python 3",
   "language": "python",
   "name": "python3"
  },
  "language_info": {
   "codemirror_mode": {
    "name": "ipython",
    "version": 3
   },
   "file_extension": ".py",
   "mimetype": "text/x-python",
   "name": "python",
   "nbconvert_exporter": "python",
   "pygments_lexer": "ipython3",
   "version": "3.6.3"
  }
 },
 "nbformat": 4,
 "nbformat_minor": 2
}
